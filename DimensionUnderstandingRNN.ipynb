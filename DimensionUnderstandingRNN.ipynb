{
  "nbformat": 4,
  "nbformat_minor": 0,
  "metadata": {
    "colab": {
      "name": "DimensionUnderstandingRNN.ipynb",
      "provenance": [],
      "collapsed_sections": []
    },
    "kernelspec": {
      "name": "python3",
      "display_name": "Python 3"
    }
  },
  "cells": [
    {
      "cell_type": "code",
      "metadata": {
        "id": "uF9VzFmZLpDV",
        "colab_type": "code",
        "colab": {}
      },
      "source": [
        ""
      ],
      "execution_count": 0,
      "outputs": []
    },
    {
      "cell_type": "code",
      "metadata": {
        "id": "3oMsvMgVM4Gd",
        "colab_type": "code",
        "colab": {}
      },
      "source": [
        "from keras.models import Model\n",
        "from keras.layers import Input, LSTM, GRU\n",
        "import numpy as np\n",
        "import matplotlib.pyplot as plt\n"
      ],
      "execution_count": 0,
      "outputs": []
    },
    {
      "cell_type": "code",
      "metadata": {
        "id": "SCqxteB-NSSi",
        "colab_type": "code",
        "colab": {}
      },
      "source": [
        "T = 8\n",
        "D = 2\n",
        "M = 3"
      ],
      "execution_count": 0,
      "outputs": []
    },
    {
      "cell_type": "code",
      "metadata": {
        "id": "8VbbXCWbNXvx",
        "colab_type": "code",
        "colab": {}
      },
      "source": [
        "X = np.random.randn(1, T, D)"
      ],
      "execution_count": 0,
      "outputs": []
    },
    {
      "cell_type": "code",
      "metadata": {
        "id": "IfU7L8ZBNe6b",
        "colab_type": "code",
        "outputId": "fb3826fa-e8f6-42b0-a58f-19f604f4e150",
        "colab": {
          "base_uri": "https://localhost:8080/",
          "height": 156
        }
      },
      "source": [
        "print(X[0])"
      ],
      "execution_count": 0,
      "outputs": [
        {
          "output_type": "stream",
          "text": [
            "[[-0.444321    1.92316628]\n",
            " [ 0.83847353  2.42272358]\n",
            " [-0.09970431 -0.84727136]\n",
            " [ 0.95486693 -0.48437355]\n",
            " [-0.41097095 -0.09488751]\n",
            " [ 1.07460268  0.7997951 ]\n",
            " [ 1.13744447  0.30642805]\n",
            " [-1.56991324 -0.10805923]]\n"
          ],
          "name": "stdout"
        }
      ]
    },
    {
      "cell_type": "code",
      "metadata": {
        "id": "MCjh2uFWZQkk",
        "colab_type": "code",
        "colab": {}
      },
      "source": [
        "def lstm1():\n",
        "  input_ = Input(shape = (T, D))\n",
        "  rnn = LSTM(M, return_state = True)\n",
        "  x = rnn(input_)\n",
        "  model = Model(inputs = input_, outputs = x)\n",
        "  model.summary()\n",
        "  o, h, c = model.predict(X)\n",
        "  print(\"O : \", o)\n",
        "  print(\"h: \", h)\n",
        "  print(\"c: \", c)"
      ],
      "execution_count": 0,
      "outputs": []
    },
    {
      "cell_type": "code",
      "metadata": {
        "id": "DnvzihnGaxm-",
        "colab_type": "code",
        "colab": {}
      },
      "source": [
        "def lstm2():\n",
        "  input_ = Input(shape = (T, D))\n",
        "  rnn = LSTM(M, return_state = True, return_sequences = True)\n",
        "  x = rnn(input_)\n",
        "  \n",
        "  model = Model(inputs = input_, outputs = x)\n",
        "  model.summary()\n",
        "  o, h, c = model.predict(X)\n",
        "  print(\"o is \", o)\n",
        "  print(\"h is \", h)\n",
        "  "
      ],
      "execution_count": 0,
      "outputs": []
    },
    {
      "cell_type": "code",
      "metadata": {
        "id": "-FgdyHu6bgUu",
        "colab_type": "code",
        "colab": {}
      },
      "source": [
        "def gru1():\n",
        "  input_ = Input(shape = (T, D))\n",
        "  rnn = GRU(M, return_state = True)\n",
        "  x = rnn(input_)\n",
        "  model = Model(inputs = input_, outputs = x)\n",
        "  model.summary()\n",
        "  o, h = model.predict(X)\n",
        "  print(\"o is \", o)\n",
        "  print(\"h is \", h)"
      ],
      "execution_count": 0,
      "outputs": []
    },
    {
      "cell_type": "code",
      "metadata": {
        "id": "GE-qzwlBcGj_",
        "colab_type": "code",
        "colab": {}
      },
      "source": [
        "def gru2():\n",
        "  input_ = Input(shape = (T, D))\n",
        "  rnn = GRU(M, return_state = True, return_sequences = True)\n",
        "  x = rnn(input_)\n",
        "  model = Model(inputs = input_, outputs = x)\n",
        "  model.summary()\n",
        "  o, h = model.predict(X)\n",
        "  print(\"o is \", o)\n",
        "  print(\"h is \", h)"
      ],
      "execution_count": 0,
      "outputs": []
    },
    {
      "cell_type": "code",
      "metadata": {
        "id": "XlZOzmxtca1I",
        "colab_type": "code",
        "outputId": "a498c054-15b4-4ddd-8dc7-63fb980ad1fe",
        "colab": {
          "base_uri": "https://localhost:8080/",
          "height": 278
        }
      },
      "source": [
        "lstm1()"
      ],
      "execution_count": 0,
      "outputs": [
        {
          "output_type": "stream",
          "text": [
            "Model: \"model_14\"\n",
            "_________________________________________________________________\n",
            "Layer (type)                 Output Shape              Param #   \n",
            "=================================================================\n",
            "input_14 (InputLayer)        (None, 8, 2)              0         \n",
            "_________________________________________________________________\n",
            "lstm_10 (LSTM)               [(None, 3), (None, 3), (N 72        \n",
            "=================================================================\n",
            "Total params: 72\n",
            "Trainable params: 72\n",
            "Non-trainable params: 0\n",
            "_________________________________________________________________\n",
            "O :  [[-0.0717174  -0.00074366 -0.09987602]]\n",
            "h:  [[-0.0717174  -0.00074366 -0.09987602]]\n",
            "c:  [[-0.12307899 -0.001588   -0.18709154]]\n"
          ],
          "name": "stdout"
        }
      ]
    },
    {
      "cell_type": "code",
      "metadata": {
        "id": "vrMTpQg1djKv",
        "colab_type": "code",
        "outputId": "78ff953e-8c21-4589-beae-74e5e82eae6b",
        "colab": {
          "base_uri": "https://localhost:8080/",
          "height": 382
        }
      },
      "source": [
        "lstm2()"
      ],
      "execution_count": 0,
      "outputs": [
        {
          "output_type": "stream",
          "text": [
            "Model: \"model_15\"\n",
            "_________________________________________________________________\n",
            "Layer (type)                 Output Shape              Param #   \n",
            "=================================================================\n",
            "input_15 (InputLayer)        (None, 8, 2)              0         \n",
            "_________________________________________________________________\n",
            "lstm_11 (LSTM)               [(None, 8, 3), (None, 3), 72        \n",
            "=================================================================\n",
            "Total params: 72\n",
            "Trainable params: 72\n",
            "Non-trainable params: 0\n",
            "_________________________________________________________________\n",
            "o is  [[[ 0.10381114 -0.02072762 -0.10384363]\n",
            "  [ 0.32743493  0.28275782 -0.15813026]\n",
            "  [ 0.16823985  0.08391283 -0.22336806]\n",
            "  [ 0.22424085  0.19114533 -0.03862991]\n",
            "  [ 0.06126262  0.08493593  0.00452233]\n",
            "  [ 0.26454878  0.28382188 -0.09317151]\n",
            "  [ 0.33724678  0.35248154 -0.09993012]\n",
            "  [ 0.0751422   0.10135531 -0.0360619 ]]]\n",
            "h is  [[ 0.0751422   0.10135531 -0.0360619 ]]\n"
          ],
          "name": "stdout"
        }
      ]
    },
    {
      "cell_type": "code",
      "metadata": {
        "id": "a0ict0rAwR9i",
        "colab_type": "code",
        "outputId": "458f5d2c-d852-42ab-d4b6-3f50b81598bb",
        "colab": {
          "base_uri": "https://localhost:8080/",
          "height": 260
        }
      },
      "source": [
        "gru1()"
      ],
      "execution_count": 0,
      "outputs": [
        {
          "output_type": "stream",
          "text": [
            "Model: \"model_16\"\n",
            "_________________________________________________________________\n",
            "Layer (type)                 Output Shape              Param #   \n",
            "=================================================================\n",
            "input_16 (InputLayer)        (None, 8, 2)              0         \n",
            "_________________________________________________________________\n",
            "gru_5 (GRU)                  [(None, 3), (None, 3)]    54        \n",
            "=================================================================\n",
            "Total params: 54\n",
            "Trainable params: 54\n",
            "Non-trainable params: 0\n",
            "_________________________________________________________________\n",
            "o is  [[-0.0133072  -0.07707047 -0.11558366]]\n",
            "h is  [[-0.0133072  -0.07707047 -0.11558366]]\n"
          ],
          "name": "stdout"
        }
      ]
    },
    {
      "cell_type": "code",
      "metadata": {
        "id": "amEi0plVwTSl",
        "colab_type": "code",
        "outputId": "ca39a1f1-ea51-437f-b189-7d3c8f75d5a6",
        "colab": {
          "base_uri": "https://localhost:8080/",
          "height": 382
        }
      },
      "source": [
        "gru2()"
      ],
      "execution_count": 0,
      "outputs": [
        {
          "output_type": "stream",
          "text": [
            "Model: \"model_17\"\n",
            "_________________________________________________________________\n",
            "Layer (type)                 Output Shape              Param #   \n",
            "=================================================================\n",
            "input_17 (InputLayer)        (None, 8, 2)              0         \n",
            "_________________________________________________________________\n",
            "gru_6 (GRU)                  [(None, 8, 3), (None, 3)] 54        \n",
            "=================================================================\n",
            "Total params: 54\n",
            "Trainable params: 54\n",
            "Non-trainable params: 0\n",
            "_________________________________________________________________\n",
            "o is  [[[ 0.10393859  0.2590964   0.02833019]\n",
            "  [ 0.24354829  0.5863046  -0.00972379]\n",
            "  [-0.07621565  0.25258026  0.02510591]\n",
            "  [ 0.2106675   0.16201466 -0.00920346]\n",
            "  [-0.01082141  0.03913401  0.02884764]\n",
            "  [ 0.31009665  0.23740226 -0.02741196]\n",
            "  [ 0.5113947   0.25384378 -0.05057724]\n",
            "  [-0.06739503 -0.00314978  0.11451485]]]\n",
            "h is  [[-0.06739503 -0.00314978  0.11451485]]\n"
          ],
          "name": "stdout"
        }
      ]
    },
    {
      "cell_type": "code",
      "metadata": {
        "id": "VS3I5Q6bwV_a",
        "colab_type": "code",
        "colab": {}
      },
      "source": [
        ""
      ],
      "execution_count": 0,
      "outputs": []
    }
  ]
}