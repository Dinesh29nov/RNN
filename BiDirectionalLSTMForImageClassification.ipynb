{
  "nbformat": 4,
  "nbformat_minor": 0,
  "metadata": {
    "colab": {
      "name": "BiDirectionalLSTMForImageClassification",
      "provenance": [],
      "authorship_tag": "ABX9TyNQm0Ufsrvp+kWdbao3JCY0",
      "include_colab_link": true
    },
    "kernelspec": {
      "name": "python3",
      "display_name": "Python 3"
    }
  },
  "cells": [
    {
      "cell_type": "markdown",
      "metadata": {
        "id": "view-in-github",
        "colab_type": "text"
      },
      "source": [
        "<a href=\"https://colab.research.google.com/github/Dinesh29nov/RNN/blob/master/BiDirectionalLSTMForImageClassification.ipynb\" target=\"_parent\"><img src=\"https://colab.research.google.com/assets/colab-badge.svg\" alt=\"Open In Colab\"/></a>"
      ]
    },
    {
      "cell_type": "code",
      "metadata": {
        "id": "jgdR68UBr-VE",
        "colab_type": "code",
        "outputId": "7eec5056-0694-44a8-d888-a14d8fd5b61a",
        "colab": {
          "base_uri": "https://localhost:8080/",
          "height": 98
        }
      },
      "source": [
        "import os\n",
        "import numpy as np\n",
        "import pandas as pd\n",
        "import matplotlib.pyplot as plt\n",
        "from keras.models import Model\n",
        "from keras.layers import Input, LSTM, GRU, Bidirectional, GlobalMaxPooling1D, Lambda, Concatenate, Dense\n",
        "import keras.backend as K\n",
        "import warnings\n",
        "warnings.filterwarnings('ignore')"
      ],
      "execution_count": 0,
      "outputs": [
        {
          "output_type": "stream",
          "text": [
            "Using TensorFlow backend.\n"
          ],
          "name": "stderr"
        },
        {
          "output_type": "display_data",
          "data": {
            "text/html": [
              "<p style=\"color: red;\">\n",
              "The default version of TensorFlow in Colab will soon switch to TensorFlow 2.x.<br>\n",
              "We recommend you <a href=\"https://www.tensorflow.org/guide/migrate\" target=\"_blank\">upgrade</a> now \n",
              "or ensure your notebook will continue to use TensorFlow 1.x via the <code>%tensorflow_version 1.x</code> magic:\n",
              "<a href=\"https://colab.research.google.com/notebooks/tensorflow_version.ipynb\" target=\"_blank\">more info</a>.</p>\n"
            ],
            "text/plain": [
              "<IPython.core.display.HTML object>"
            ]
          },
          "metadata": {
            "tags": []
          }
        }
      ]
    },
    {
      "cell_type": "code",
      "metadata": {
        "id": "DqOlNG1usk1W",
        "colab_type": "code",
        "colab": {}
      },
      "source": [
        "from keras.datasets import mnist\n"
      ],
      "execution_count": 0,
      "outputs": []
    },
    {
      "cell_type": "code",
      "metadata": {
        "id": "r4AFzGxttwwa",
        "colab_type": "code",
        "outputId": "c0fbbe9e-b5f5-4155-e08e-7b26e4d17cbc",
        "colab": {
          "base_uri": "https://localhost:8080/",
          "height": 52
        }
      },
      "source": [
        "(x_train, y_train), (x_test, y_test) = mnist.load_data()"
      ],
      "execution_count": 0,
      "outputs": [
        {
          "output_type": "stream",
          "text": [
            "Downloading data from https://s3.amazonaws.com/img-datasets/mnist.npz\n",
            "11493376/11490434 [==============================] - 1s 0us/step\n"
          ],
          "name": "stdout"
        }
      ]
    },
    {
      "cell_type": "code",
      "metadata": {
        "id": "1o0lT5Fdt-9S",
        "colab_type": "code",
        "colab": {}
      },
      "source": [
        "x_train = x_train / 255\n",
        "x_test = x_test / 255"
      ],
      "execution_count": 0,
      "outputs": []
    },
    {
      "cell_type": "code",
      "metadata": {
        "id": "JRtygDY0uJFd",
        "colab_type": "code",
        "colab": {}
      },
      "source": [
        "D = 28\n",
        "M = 15"
      ],
      "execution_count": 0,
      "outputs": []
    },
    {
      "cell_type": "code",
      "metadata": {
        "id": "1Sm-35ztv9XV",
        "colab_type": "code",
        "outputId": "a4aaa253-547d-4400-8663-92f82fbb6b08",
        "colab": {
          "base_uri": "https://localhost:8080/",
          "height": 106
        }
      },
      "source": [
        "input_ = Input(shape=(D,D))\n"
      ],
      "execution_count": 0,
      "outputs": [
        {
          "output_type": "stream",
          "text": [
            "WARNING:tensorflow:From /usr/local/lib/python3.6/dist-packages/keras/backend/tensorflow_backend.py:66: The name tf.get_default_graph is deprecated. Please use tf.compat.v1.get_default_graph instead.\n",
            "\n",
            "WARNING:tensorflow:From /usr/local/lib/python3.6/dist-packages/keras/backend/tensorflow_backend.py:541: The name tf.placeholder is deprecated. Please use tf.compat.v1.placeholder instead.\n",
            "\n"
          ],
          "name": "stdout"
        }
      ]
    },
    {
      "cell_type": "code",
      "metadata": {
        "id": "lq5L21yOwD7O",
        "colab_type": "code",
        "outputId": "f5907c3d-f9e3-4dcf-9206-908ace8da251",
        "colab": {
          "base_uri": "https://localhost:8080/",
          "height": 72
        }
      },
      "source": [
        "rnn1 = Bidirectional(LSTM(M, return_sequences = True))\n",
        "x1 = rnn1(input_) # outputs NxDx2M\n",
        "x1 = GlobalMaxPooling1D()(x1) # outputs Nx2M\n"
      ],
      "execution_count": 0,
      "outputs": [
        {
          "output_type": "stream",
          "text": [
            "WARNING:tensorflow:From /usr/local/lib/python3.6/dist-packages/keras/backend/tensorflow_backend.py:4432: The name tf.random_uniform is deprecated. Please use tf.random.uniform instead.\n",
            "\n"
          ],
          "name": "stdout"
        }
      ]
    },
    {
      "cell_type": "code",
      "metadata": {
        "id": "7OdpQArjwcut",
        "colab_type": "code",
        "colab": {}
      },
      "source": [
        "rnn2 = Bidirectional(LSTM(M, return_sequences = True))\n"
      ],
      "execution_count": 0,
      "outputs": []
    },
    {
      "cell_type": "code",
      "metadata": {
        "id": "JnFXqRIcwkzT",
        "colab_type": "code",
        "colab": {}
      },
      "source": [
        "permutor = Lambda(lambda t: K.permute_dimensions(t, pattern = (0, 2, 1)))\n"
      ],
      "execution_count": 0,
      "outputs": []
    },
    {
      "cell_type": "code",
      "metadata": {
        "id": "vPtg0R5m0XXU",
        "colab_type": "code",
        "colab": {}
      },
      "source": [
        "x2 = permutor(input_)\n",
        "x2 = rnn2(x2) # outputs is N x D x 2M\n",
        "x2 = GlobalMaxPooling1D()(x2) # outputs is N x 2M"
      ],
      "execution_count": 0,
      "outputs": []
    },
    {
      "cell_type": "code",
      "metadata": {
        "id": "W6stDoGb0xgh",
        "colab_type": "code",
        "colab": {}
      },
      "source": [
        "concatenator = Concatenate(axis = 1)\n",
        "x = concatenator([x1, x2])"
      ],
      "execution_count": 0,
      "outputs": []
    },
    {
      "cell_type": "code",
      "metadata": {
        "id": "i6Yn8hBf1XjX",
        "colab_type": "code",
        "colab": {}
      },
      "source": [
        "output = Dense(10, activation='softmax')(x)"
      ],
      "execution_count": 0,
      "outputs": []
    },
    {
      "cell_type": "code",
      "metadata": {
        "id": "c_LSwWWg1lJF",
        "colab_type": "code",
        "colab": {}
      },
      "source": [
        "model = Model(inputs = input_, outputs = output)"
      ],
      "execution_count": 0,
      "outputs": []
    },
    {
      "cell_type": "code",
      "metadata": {
        "id": "--FXPudt1tuH",
        "colab_type": "code",
        "outputId": "c3d06d0f-a68f-46d3-ea70-d11b29742518",
        "colab": {
          "base_uri": "https://localhost:8080/",
          "height": 72
        }
      },
      "source": [
        "model.compile(\n",
        "    loss = 'sparse_categorical_crossentropy',\n",
        "    optimizer = 'adam',\n",
        "    metrics = ['accuracy']\n",
        ")"
      ],
      "execution_count": 0,
      "outputs": [
        {
          "output_type": "stream",
          "text": [
            "WARNING:tensorflow:From /usr/local/lib/python3.6/dist-packages/keras/backend/tensorflow_backend.py:3622: The name tf.log is deprecated. Please use tf.math.log instead.\n",
            "\n"
          ],
          "name": "stdout"
        }
      ]
    },
    {
      "cell_type": "code",
      "metadata": {
        "id": "__nC7R5J2Bn-",
        "colab_type": "code",
        "outputId": "7f411883-2baa-4515-f5bf-ca5e2b32764d",
        "colab": {
          "base_uri": "https://localhost:8080/",
          "height": 732
        }
      },
      "source": [
        "modeloutput = model.fit(x_train, y_train,\n",
        "                    batch_size=32,\n",
        "                    epochs=10,\n",
        "                    # We pass some validation for\n",
        "                    # monitoring validation loss and metrics\n",
        "                    # at the end of each epoch\n",
        "                    validation_data=(x_test, y_test)\n",
        "                    )\n"
      ],
      "execution_count": 0,
      "outputs": [
        {
          "output_type": "stream",
          "text": [
            "WARNING:tensorflow:From /usr/local/lib/python3.6/dist-packages/tensorflow_core/python/ops/math_grad.py:1424: where (from tensorflow.python.ops.array_ops) is deprecated and will be removed in a future version.\n",
            "Instructions for updating:\n",
            "Use tf.where in 2.0, which has the same broadcast rule as np.where\n",
            "WARNING:tensorflow:From /usr/local/lib/python3.6/dist-packages/keras/backend/tensorflow_backend.py:1033: The name tf.assign_add is deprecated. Please use tf.compat.v1.assign_add instead.\n",
            "\n",
            "WARNING:tensorflow:From /usr/local/lib/python3.6/dist-packages/keras/backend/tensorflow_backend.py:1020: The name tf.assign is deprecated. Please use tf.compat.v1.assign instead.\n",
            "\n",
            "WARNING:tensorflow:From /usr/local/lib/python3.6/dist-packages/keras/backend/tensorflow_backend.py:3005: The name tf.Session is deprecated. Please use tf.compat.v1.Session instead.\n",
            "\n",
            "Train on 60000 samples, validate on 10000 samples\n",
            "Epoch 1/10\n",
            "WARNING:tensorflow:From /usr/local/lib/python3.6/dist-packages/keras/backend/tensorflow_backend.py:190: The name tf.get_default_session is deprecated. Please use tf.compat.v1.get_default_session instead.\n",
            "\n",
            "WARNING:tensorflow:From /usr/local/lib/python3.6/dist-packages/keras/backend/tensorflow_backend.py:197: The name tf.ConfigProto is deprecated. Please use tf.compat.v1.ConfigProto instead.\n",
            "\n",
            "WARNING:tensorflow:From /usr/local/lib/python3.6/dist-packages/keras/backend/tensorflow_backend.py:207: The name tf.global_variables is deprecated. Please use tf.compat.v1.global_variables instead.\n",
            "\n",
            "WARNING:tensorflow:From /usr/local/lib/python3.6/dist-packages/keras/backend/tensorflow_backend.py:216: The name tf.is_variable_initialized is deprecated. Please use tf.compat.v1.is_variable_initialized instead.\n",
            "\n",
            "WARNING:tensorflow:From /usr/local/lib/python3.6/dist-packages/keras/backend/tensorflow_backend.py:223: The name tf.variables_initializer is deprecated. Please use tf.compat.v1.variables_initializer instead.\n",
            "\n",
            "60000/60000 [==============================] - 130s 2ms/step - loss: 0.4990 - acc: 0.8666 - val_loss: 0.1836 - val_acc: 0.9497\n",
            "Epoch 2/10\n",
            "60000/60000 [==============================] - 127s 2ms/step - loss: 0.1566 - acc: 0.9549 - val_loss: 0.1204 - val_acc: 0.9642\n",
            "Epoch 3/10\n",
            "60000/60000 [==============================] - 126s 2ms/step - loss: 0.1129 - acc: 0.9672 - val_loss: 0.1016 - val_acc: 0.9687\n",
            "Epoch 4/10\n",
            "60000/60000 [==============================] - 126s 2ms/step - loss: 0.0929 - acc: 0.9725 - val_loss: 0.0872 - val_acc: 0.9747\n",
            "Epoch 5/10\n",
            "60000/60000 [==============================] - 127s 2ms/step - loss: 0.0798 - acc: 0.9758 - val_loss: 0.0715 - val_acc: 0.9778\n",
            "Epoch 6/10\n",
            "60000/60000 [==============================] - 125s 2ms/step - loss: 0.0687 - acc: 0.9793 - val_loss: 0.0703 - val_acc: 0.9785\n",
            "Epoch 7/10\n",
            "60000/60000 [==============================] - 125s 2ms/step - loss: 0.0618 - acc: 0.9809 - val_loss: 0.0663 - val_acc: 0.9800\n",
            "Epoch 8/10\n",
            "60000/60000 [==============================] - 126s 2ms/step - loss: 0.0568 - acc: 0.9828 - val_loss: 0.0596 - val_acc: 0.9818\n",
            "Epoch 9/10\n",
            "60000/60000 [==============================] - 126s 2ms/step - loss: 0.0513 - acc: 0.9845 - val_loss: 0.0588 - val_acc: 0.9815\n",
            "Epoch 10/10\n",
            "60000/60000 [==============================] - 127s 2ms/step - loss: 0.0476 - acc: 0.9854 - val_loss: 0.0599 - val_acc: 0.9810\n"
          ],
          "name": "stdout"
        }
      ]
    }
  ]
}