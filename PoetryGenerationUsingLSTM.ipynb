{
  "nbformat": 4,
  "nbformat_minor": 0,
  "metadata": {
    "colab": {
      "name": "PoetryGenerationUsingLSTM.ipynb",
      "provenance": [],
      "authorship_tag": "ABX9TyMtg1DgN0pdWBk8jHM1gulr",
      "include_colab_link": true
    },
    "kernelspec": {
      "name": "python3",
      "display_name": "Python 3"
    }
  },
  "cells": [
    {
      "cell_type": "markdown",
      "metadata": {
        "id": "view-in-github",
        "colab_type": "text"
      },
      "source": [
        "<a href=\"https://colab.research.google.com/github/Dinesh29nov/RNN/blob/master/PoetryGenerationUsingLSTM.ipynb\" target=\"_parent\"><img src=\"https://colab.research.google.com/assets/colab-badge.svg\" alt=\"Open In Colab\"/></a>"
      ]
    },
    {
      "cell_type": "markdown",
      "metadata": {
        "id": "lWsxOJ6ZHIDi",
        "colab_type": "text"
      },
      "source": [
        "## <b/><font color = 'green' /> Poetry Generation using LSTM"
      ]
    },
    {
      "cell_type": "markdown",
      "metadata": {
        "id": "m3l48omcLH9w",
        "colab_type": "text"
      },
      "source": [
        "#### <b/><font color='green'/> Libraries "
      ]
    },
    {
      "cell_type": "code",
      "metadata": {
        "id": "rMmQ4Fa9HHM5",
        "colab_type": "code",
        "colab": {}
      },
      "source": [
        "# Basic packages \n",
        "import os\n",
        "import pandas as pd\n",
        "import numpy as np\n",
        "import matplotlib.pyplot as plt"
      ],
      "execution_count": 0,
      "outputs": []
    },
    {
      "cell_type": "code",
      "metadata": {
        "id": "6OXRJJpuIBT8",
        "colab_type": "code",
        "colab": {
          "base_uri": "https://localhost:8080/",
          "height": 98
        },
        "outputId": "6a1b96f3-1bd3-4117-a553-01dcd5ca91be"
      },
      "source": [
        "# Deep learning packages specific to keras\n",
        "from keras.models import Model\n",
        "from keras.layers import Dense, Embedding, Input, LSTM\n",
        "from keras.preprocessing.text import Tokenizer\n",
        "from keras.preprocessing.sequence import pad_sequences\n",
        "from keras.optimizers import Adam, SGD"
      ],
      "execution_count": 2,
      "outputs": [
        {
          "output_type": "stream",
          "text": [
            "Using TensorFlow backend.\n"
          ],
          "name": "stderr"
        },
        {
          "output_type": "display_data",
          "data": {
            "text/html": [
              "<p style=\"color: red;\">\n",
              "The default version of TensorFlow in Colab will soon switch to TensorFlow 2.x.<br>\n",
              "We recommend you <a href=\"https://www.tensorflow.org/guide/migrate\" target=\"_blank\">upgrade</a> now \n",
              "or ensure your notebook will continue to use TensorFlow 1.x via the <code>%tensorflow_version 1.x</code> magic:\n",
              "<a href=\"https://colab.research.google.com/notebooks/tensorflow_version.ipynb\" target=\"_blank\">more info</a>.</p>\n"
            ],
            "text/plain": [
              "<IPython.core.display.HTML object>"
            ]
          },
          "metadata": {
            "tags": []
          }
        }
      ]
    },
    {
      "cell_type": "code",
      "metadata": {
        "id": "8VaxxSlvImkG",
        "colab_type": "code",
        "colab": {}
      },
      "source": [
        "import warnings\n",
        "warnings.filterwarnings('ignore')"
      ],
      "execution_count": 0,
      "outputs": []
    },
    {
      "cell_type": "code",
      "metadata": {
        "id": "do3zHahaLZEO",
        "colab_type": "code",
        "colab": {
          "base_uri": "https://localhost:8080/",
          "height": 124
        },
        "outputId": "e95bebe6-883d-4bfa-da46-3eb67f2828f5"
      },
      "source": [
        "from google.colab import drive\n",
        "drive.mount('/content/drive', force_remount = True)"
      ],
      "execution_count": 4,
      "outputs": [
        {
          "output_type": "stream",
          "text": [
            "Go to this URL in a browser: https://accounts.google.com/o/oauth2/auth?client_id=947318989803-6bn6qk8qdgf4n4g3pfee6491hc0brc4i.apps.googleusercontent.com&redirect_uri=urn%3aietf%3awg%3aoauth%3a2.0%3aoob&response_type=code&scope=email%20https%3a%2f%2fwww.googleapis.com%2fauth%2fdocs.test%20https%3a%2f%2fwww.googleapis.com%2fauth%2fdrive%20https%3a%2f%2fwww.googleapis.com%2fauth%2fdrive.photos.readonly%20https%3a%2f%2fwww.googleapis.com%2fauth%2fpeopleapi.readonly\n",
            "\n",
            "Enter your authorization code:\n",
            "··········\n",
            "Mounted at /content/drive\n"
          ],
          "name": "stdout"
        }
      ]
    },
    {
      "cell_type": "markdown",
      "metadata": {
        "id": "mc06TUQaK6kt",
        "colab_type": "text"
      },
      "source": [
        "#### <b/><font color='green'/> Global Constants "
      ]
    },
    {
      "cell_type": "code",
      "metadata": {
        "id": "RJO4gDECIv6u",
        "colab_type": "code",
        "colab": {}
      },
      "source": [
        "MAX_SEQUENENCE_LENGTH = 100\n",
        "MAX_VOCAB_SIZE = 3000\n",
        "EMBEDDING_DIM = 50\n",
        "VALIDATION_SPLIT = 0.2\n",
        "BATCH_SIZE = 128\n",
        "EPOCHS = 2000\n",
        "LATENT_DIM = 25"
      ],
      "execution_count": 0,
      "outputs": []
    },
    {
      "cell_type": "markdown",
      "metadata": {
        "id": "HsZ7SbNiLPcy",
        "colab_type": "text"
      },
      "source": [
        "#### <b/><font color='green'/> Data Loading and Preprocessing "
      ]
    },
    {
      "cell_type": "code",
      "metadata": {
        "id": "CxL_6MVFJS0M",
        "colab_type": "code",
        "colab": {}
      },
      "source": [
        "input_text = []\n",
        "target_text = []\n",
        "for line in open('/content/drive/My Drive/DataNLP/robert_frost.txt'):\n",
        "  line = line.rstrip()\n",
        "  if not line:\n",
        "    continue\n",
        "  input_line = '<sos> ' + line\n",
        "  output_line = line + ' <eos>'\n",
        "  input_text.append(input_line)\n",
        "  target_text.append(output_line)\n",
        "  "
      ],
      "execution_count": 0,
      "outputs": []
    },
    {
      "cell_type": "code",
      "metadata": {
        "id": "YlLMkpKYqOxj",
        "colab_type": "code",
        "colab": {}
      },
      "source": [
        "all_lines = input_text + target_text"
      ],
      "execution_count": 0,
      "outputs": []
    },
    {
      "cell_type": "code",
      "metadata": {
        "id": "NVn8pMWhzHtx",
        "colab_type": "code",
        "colab": {}
      },
      "source": [
        "tokenizer = Tokenizer(num_words = MAX_VOCAB_SIZE, filters = '')\n",
        "tokenizer.fit_on_texts(all_lines)\n",
        "input_sequences = tokenizer.texts_to_sequences(input_text)\n",
        "target_sequences = tokenizer.texts_to_sequences(target_text)"
      ],
      "execution_count": 0,
      "outputs": []
    },
    {
      "cell_type": "code",
      "metadata": {
        "id": "zP9hniyLzyGu",
        "colab_type": "code",
        "colab": {
          "base_uri": "https://localhost:8080/",
          "height": 34
        },
        "outputId": "7ce11d80-ae79-47e7-9524-5f3a615cb461"
      },
      "source": [
        "input_sequences[0]"
      ],
      "execution_count": 9,
      "outputs": [
        {
          "output_type": "execute_result",
          "data": {
            "text/plain": [
              "[1, 104, 537, 538, 9, 7, 539, 540]"
            ]
          },
          "metadata": {
            "tags": []
          },
          "execution_count": 9
        }
      ]
    },
    {
      "cell_type": "code",
      "metadata": {
        "id": "3gOllrwv0C8x",
        "colab_type": "code",
        "colab": {
          "base_uri": "https://localhost:8080/",
          "height": 34
        },
        "outputId": "fcff0427-58a3-49cf-fa69-81787de32c10"
      },
      "source": [
        "input_text[0]"
      ],
      "execution_count": 10,
      "outputs": [
        {
          "output_type": "execute_result",
          "data": {
            "text/plain": [
              "'<sos> Two roads diverged in a yellow wood,'"
            ]
          },
          "metadata": {
            "tags": []
          },
          "execution_count": 10
        }
      ]
    },
    {
      "cell_type": "code",
      "metadata": {
        "id": "J_tsUAoz0n1h",
        "colab_type": "code",
        "colab": {
          "base_uri": "https://localhost:8080/",
          "height": 34
        },
        "outputId": "dac0f702-7fe2-4dd1-bc3d-887a00fc5d04"
      },
      "source": [
        "max_sequence_length_from_data = max(len(s) for s in input_sequences)\n",
        "max_sequence_length_from_data"
      ],
      "execution_count": 11,
      "outputs": [
        {
          "output_type": "execute_result",
          "data": {
            "text/plain": [
              "12"
            ]
          },
          "metadata": {
            "tags": []
          },
          "execution_count": 11
        }
      ]
    },
    {
      "cell_type": "code",
      "metadata": {
        "id": "IJoDRSbl1fGM",
        "colab_type": "code",
        "colab": {}
      },
      "source": [
        "word2idx = tokenizer.word_index\n",
        "assert('<sos>' in word2idx)\n",
        "\n",
        "assert('<eos>' in word2idx)"
      ],
      "execution_count": 0,
      "outputs": []
    },
    {
      "cell_type": "code",
      "metadata": {
        "id": "eBqYUTn22EYe",
        "colab_type": "code",
        "colab": {}
      },
      "source": [
        "max_sequences_length = min(max_sequence_length_from_data, MAX_SEQUENENCE_LENGTH)\n",
        "input_sequences = pad_sequences(input_sequences, maxlen=max_sequences_length, padding='post')\n",
        "target_sequences = pad_sequences(target_sequences, maxlen=max_sequences_length, padding='post')"
      ],
      "execution_count": 0,
      "outputs": []
    },
    {
      "cell_type": "code",
      "metadata": {
        "id": "nyeJBjNc2onw",
        "colab_type": "code",
        "colab": {
          "base_uri": "https://localhost:8080/",
          "height": 52
        },
        "outputId": "8cc4f4c3-0fcc-4f3a-fe1b-10c6eba4c978"
      },
      "source": [
        "input_sequences[0]"
      ],
      "execution_count": 18,
      "outputs": [
        {
          "output_type": "execute_result",
          "data": {
            "text/plain": [
              "array([  1, 104, 537, 538,   9,   7, 539, 540,   0,   0,   0,   0],\n",
              "      dtype=int32)"
            ]
          },
          "metadata": {
            "tags": []
          },
          "execution_count": 18
        }
      ]
    },
    {
      "cell_type": "markdown",
      "metadata": {
        "id": "JZUQVgrf24V1",
        "colab_type": "text"
      },
      "source": [
        "####  <b/><font color ='green'/> Loading Pre-Trained word Vectors"
      ]
    },
    {
      "cell_type": "code",
      "metadata": {
        "id": "wOY8en4d2wyR",
        "colab_type": "code",
        "colab": {
          "base_uri": "https://localhost:8080/",
          "height": 364
        },
        "outputId": "e38e15a4-b60c-4bf5-9a33-ed02abf31679"
      },
      "source": [
        "if not os.path.exists('glove.6B.zip'):\n",
        "  ! wget http://nlp.stanford.edu/data/glove.6B.zip"
      ],
      "execution_count": 19,
      "outputs": [
        {
          "output_type": "stream",
          "text": [
            "--2020-01-15 06:21:45--  http://nlp.stanford.edu/data/glove.6B.zip\n",
            "Resolving nlp.stanford.edu (nlp.stanford.edu)... 171.64.67.140\n",
            "Connecting to nlp.stanford.edu (nlp.stanford.edu)|171.64.67.140|:80... connected.\n",
            "HTTP request sent, awaiting response... 302 Found\n",
            "Location: https://nlp.stanford.edu/data/glove.6B.zip [following]\n",
            "--2020-01-15 06:21:45--  https://nlp.stanford.edu/data/glove.6B.zip\n",
            "Connecting to nlp.stanford.edu (nlp.stanford.edu)|171.64.67.140|:443... connected.\n",
            "HTTP request sent, awaiting response... 301 Moved Permanently\n",
            "Location: http://downloads.cs.stanford.edu/nlp/data/glove.6B.zip [following]\n",
            "--2020-01-15 06:21:45--  http://downloads.cs.stanford.edu/nlp/data/glove.6B.zip\n",
            "Resolving downloads.cs.stanford.edu (downloads.cs.stanford.edu)... 171.64.64.22\n",
            "Connecting to downloads.cs.stanford.edu (downloads.cs.stanford.edu)|171.64.64.22|:80... connected.\n",
            "HTTP request sent, awaiting response... 200 OK\n",
            "Length: 862182613 (822M) [application/zip]\n",
            "Saving to: ‘glove.6B.zip’\n",
            "\n",
            "glove.6B.zip        100%[===================>] 822.24M  1.79MB/s    in 7m 54s  \n",
            "\n",
            "2020-01-15 06:29:39 (1.74 MB/s) - ‘glove.6B.zip’ saved [862182613/862182613]\n",
            "\n"
          ],
          "name": "stdout"
        }
      ]
    },
    {
      "cell_type": "code",
      "metadata": {
        "id": "hacStopg3WXD",
        "colab_type": "code",
        "colab": {
          "base_uri": "https://localhost:8080/",
          "height": 104
        },
        "outputId": "471c4b4f-0ccf-49cb-cd9e-2ef9fbdc7252"
      },
      "source": [
        "if not os.path.exists('glove.6B.50d.txt'):\n",
        "  ! unzip glove.6B.zip"
      ],
      "execution_count": 20,
      "outputs": [
        {
          "output_type": "stream",
          "text": [
            "Archive:  glove.6B.zip\n",
            "  inflating: glove.6B.50d.txt        \n",
            "  inflating: glove.6B.100d.txt       \n",
            "  inflating: glove.6B.200d.txt       \n",
            "  inflating: glove.6B.300d.txt       \n"
          ],
          "name": "stdout"
        }
      ]
    },
    {
      "cell_type": "code",
      "metadata": {
        "id": "yrkH3B0s3gVh",
        "colab_type": "code",
        "colab": {}
      },
      "source": [
        "word2vec = {}\n",
        "with open('glove.6B.%sd.txt'%EMBEDDING_DIM) as f:\n",
        "  for line in f:\n",
        "    values = line.split()\n",
        "    word = values[0]\n",
        "    vec = np.array(values[1:], dtype='float32')\n",
        "    word2vec[word] = vec"
      ],
      "execution_count": 0,
      "outputs": []
    },
    {
      "cell_type": "code",
      "metadata": {
        "id": "IRG3mDXi4Kn-",
        "colab_type": "code",
        "colab": {}
      },
      "source": [
        "num_words = min(MAX_VOCAB_SIZE, len(word2idx) + 1)\n",
        "embedding_matrix = np.zeros((num_words, EMBEDDING_DIM))\n",
        "for word, i in word2idx.items():\n",
        "  if i < MAX_VOCAB_SIZE:\n",
        "    embedding_vector = word2vec.get(word)\n",
        "    if embedding_vector is not None:\n",
        "      embedding_matrix[i] = embedding_vector"
      ],
      "execution_count": 0,
      "outputs": []
    },
    {
      "cell_type": "code",
      "metadata": {
        "id": "wD5AV6EB5uvj",
        "colab_type": "code",
        "colab": {}
      },
      "source": [
        "one_hot_targets = np.zeros((len(input_sequences), max_sequences_length, num_words))\n",
        "for i, target_sequence in enumerate(target_sequences):\n",
        "  for t, word in enumerate(target_sequence):\n",
        "    if word > 0:\n",
        "      one_hot_targets[i, t, word] = 1"
      ],
      "execution_count": 0,
      "outputs": []
    },
    {
      "cell_type": "code",
      "metadata": {
        "id": "_6XzoMJ86swM",
        "colab_type": "code",
        "colab": {
          "base_uri": "https://localhost:8080/",
          "height": 34
        },
        "outputId": "fedc76a0-7efe-4241-db84-db2acb9a9dec"
      },
      "source": [
        "one_hot_targets.shape"
      ],
      "execution_count": 28,
      "outputs": [
        {
          "output_type": "execute_result",
          "data": {
            "text/plain": [
              "(1436, 12, 3000)"
            ]
          },
          "metadata": {
            "tags": []
          },
          "execution_count": 28
        }
      ]
    },
    {
      "cell_type": "code",
      "metadata": {
        "id": "4d9mq71lFxhX",
        "colab_type": "code",
        "colab": {
          "base_uri": "https://localhost:8080/",
          "height": 72
        },
        "outputId": "04475e45-d1c2-4420-e4c3-c73ddd08a3c0"
      },
      "source": [
        "# load pre-trained word embeddings into an Embedding layer\n",
        "embedding_layer = Embedding(\n",
        "  num_words,\n",
        "  EMBEDDING_DIM,\n",
        "  weights=[embedding_matrix],\n",
        "  # trainable=False\n",
        ")\n",
        "\n"
      ],
      "execution_count": 29,
      "outputs": [
        {
          "output_type": "stream",
          "text": [
            "WARNING:tensorflow:From /usr/local/lib/python3.6/dist-packages/keras/backend/tensorflow_backend.py:66: The name tf.get_default_graph is deprecated. Please use tf.compat.v1.get_default_graph instead.\n",
            "\n"
          ],
          "name": "stdout"
        }
      ]
    },
    {
      "cell_type": "code",
      "metadata": {
        "id": "skCsT0KxFxtp",
        "colab_type": "code",
        "colab": {
          "base_uri": "https://localhost:8080/",
          "height": 714
        },
        "outputId": "5f4e5f00-018c-43c3-df81-9ddaf2adb85b"
      },
      "source": [
        "input_ = Input(shape=(max_sequences_length,))\n",
        "initial_h = Input(shape=(LATENT_DIM,))\n",
        "initial_c = Input(shape=(LATENT_DIM,))\n",
        "x = embedding_layer(input_)\n",
        "lstm = LSTM(LATENT_DIM, return_sequences=True, return_state=True)\n",
        "x, _, _ = lstm(x, initial_state=[initial_h, initial_c]) # don't need the states here\n",
        "dense = Dense(num_words, activation='softmax')\n",
        "output = dense(x)\n",
        "\n",
        "model = Model([input_, initial_h, initial_c], output)\n",
        "model.compile(\n",
        "  loss='categorical_crossentropy',\n",
        "  # optimizer='rmsprop',\n",
        "  optimizer=Adam(lr=0.01),\n",
        "  # optimizer=SGD(lr=0.01, momentum=0.9),\n",
        "  metrics=['accuracy']\n",
        ")\n",
        "\n",
        "print('Training model...')\n",
        "z = np.zeros((len(input_sequences), LATENT_DIM))\n",
        "r = model.fit(\n",
        "  [input_sequences, z, z],\n",
        "  one_hot_targets,\n",
        "  batch_size=BATCH_SIZE,\n",
        "  epochs=5,\n",
        "  validation_split=VALIDATION_SPLIT\n",
        ")\n"
      ],
      "execution_count": 31,
      "outputs": [
        {
          "output_type": "stream",
          "text": [
            "WARNING:tensorflow:From /usr/local/lib/python3.6/dist-packages/keras/backend/tensorflow_backend.py:541: The name tf.placeholder is deprecated. Please use tf.compat.v1.placeholder instead.\n",
            "\n",
            "WARNING:tensorflow:From /usr/local/lib/python3.6/dist-packages/keras/backend/tensorflow_backend.py:4432: The name tf.random_uniform is deprecated. Please use tf.random.uniform instead.\n",
            "\n",
            "WARNING:tensorflow:From /usr/local/lib/python3.6/dist-packages/keras/backend/tensorflow_backend.py:190: The name tf.get_default_session is deprecated. Please use tf.compat.v1.get_default_session instead.\n",
            "\n",
            "WARNING:tensorflow:From /usr/local/lib/python3.6/dist-packages/keras/backend/tensorflow_backend.py:197: The name tf.ConfigProto is deprecated. Please use tf.compat.v1.ConfigProto instead.\n",
            "\n",
            "WARNING:tensorflow:From /usr/local/lib/python3.6/dist-packages/keras/backend/tensorflow_backend.py:203: The name tf.Session is deprecated. Please use tf.compat.v1.Session instead.\n",
            "\n",
            "WARNING:tensorflow:From /usr/local/lib/python3.6/dist-packages/keras/backend/tensorflow_backend.py:207: The name tf.global_variables is deprecated. Please use tf.compat.v1.global_variables instead.\n",
            "\n",
            "WARNING:tensorflow:From /usr/local/lib/python3.6/dist-packages/keras/backend/tensorflow_backend.py:216: The name tf.is_variable_initialized is deprecated. Please use tf.compat.v1.is_variable_initialized instead.\n",
            "\n",
            "WARNING:tensorflow:From /usr/local/lib/python3.6/dist-packages/keras/backend/tensorflow_backend.py:223: The name tf.variables_initializer is deprecated. Please use tf.compat.v1.variables_initializer instead.\n",
            "\n",
            "WARNING:tensorflow:From /usr/local/lib/python3.6/dist-packages/keras/optimizers.py:793: The name tf.train.Optimizer is deprecated. Please use tf.compat.v1.train.Optimizer instead.\n",
            "\n",
            "WARNING:tensorflow:From /usr/local/lib/python3.6/dist-packages/keras/backend/tensorflow_backend.py:3576: The name tf.log is deprecated. Please use tf.math.log instead.\n",
            "\n",
            "Training model...\n",
            "WARNING:tensorflow:From /usr/local/lib/python3.6/dist-packages/tensorflow_core/python/ops/math_grad.py:1424: where (from tensorflow.python.ops.array_ops) is deprecated and will be removed in a future version.\n",
            "Instructions for updating:\n",
            "Use tf.where in 2.0, which has the same broadcast rule as np.where\n",
            "WARNING:tensorflow:From /usr/local/lib/python3.6/dist-packages/keras/backend/tensorflow_backend.py:1033: The name tf.assign_add is deprecated. Please use tf.compat.v1.assign_add instead.\n",
            "\n",
            "WARNING:tensorflow:From /usr/local/lib/python3.6/dist-packages/keras/backend/tensorflow_backend.py:1020: The name tf.assign is deprecated. Please use tf.compat.v1.assign instead.\n",
            "\n",
            "Train on 1148 samples, validate on 288 samples\n",
            "Epoch 1/5\n",
            "1148/1148 [==============================] - 4s 3ms/step - loss: 5.3920 - acc: 0.0176 - val_loss: 5.0626 - val_acc: 0.0226\n",
            "Epoch 2/5\n",
            "1148/1148 [==============================] - 2s 2ms/step - loss: 4.6351 - acc: 0.0335 - val_loss: 4.8296 - val_acc: 0.0226\n",
            "Epoch 3/5\n",
            "1148/1148 [==============================] - 3s 2ms/step - loss: 4.3633 - acc: 0.0735 - val_loss: 4.8905 - val_acc: 0.0833\n",
            "Epoch 4/5\n",
            "1148/1148 [==============================] - 3s 2ms/step - loss: 4.3113 - acc: 0.0833 - val_loss: 4.9402 - val_acc: 0.0833\n",
            "Epoch 5/5\n",
            "1148/1148 [==============================] - 3s 2ms/step - loss: 4.2630 - acc: 0.0833 - val_loss: 4.9820 - val_acc: 0.0833\n"
          ],
          "name": "stdout"
        }
      ]
    },
    {
      "cell_type": "code",
      "metadata": {
        "id": "wFZjjbN2Fxxk",
        "colab_type": "code",
        "colab": {
          "base_uri": "https://localhost:8080/",
          "height": 513
        },
        "outputId": "bcf638a8-c4c6-4a35-b197-8c08d9302e63"
      },
      "source": [
        "# plot some data\n",
        "plt.plot(r.history['loss'], label='loss')\n",
        "plt.plot(r.history['val_loss'], label='val_loss')\n",
        "plt.legend()\n",
        "plt.show()\n",
        "\n",
        "# accuracies\n",
        "plt.plot(r.history['acc'], label='acc')\n",
        "plt.plot(r.history['val_acc'], label='val_acc')\n",
        "plt.legend()\n",
        "plt.show()"
      ],
      "execution_count": 32,
      "outputs": [
        {
          "output_type": "display_data",
          "data": {
            "image/png": "[encoded data removed]",
            "text/plain": [
              "<Figure size 432x288 with 1 Axes>"
            ]
          },
          "metadata": {
            "tags": []
          }
        },
        {
          "output_type": "display_data",
          "data": {
            "image/png": "[encoded data removed]",
            "text/plain": [
              "<Figure size 432x288 with 1 Axes>"
            ]
          },
          "metadata": {
            "tags": []
          }
        }
      ]
    },
    {
      "cell_type": "code",
      "metadata": {
        "id": "FC4Y-5hGFx2B",
        "colab_type": "code",
        "colab": {}
      },
      "source": [
        "# make a sampling model\n",
        "input2 = Input(shape=(1,)) # we'll only input one word at a time\n",
        "x = embedding_layer(input2)\n",
        "x, h, c = lstm(x, initial_state=[initial_h, initial_c]) # now we need states to feed back in\n",
        "output2 = dense(x)\n",
        "sampling_model = Model([input2, initial_h, initial_c], [output2, h, c])\n",
        "\n",
        "\n",
        "# reverse word2idx dictionary to get back words\n",
        "# during prediction\n",
        "idx2word = {v:k for k, v in word2idx.items()}\n"
      ],
      "execution_count": 0,
      "outputs": []
    },
    {
      "cell_type": "code",
      "metadata": {
        "id": "e4HZRr21Fxr5",
        "colab_type": "code",
        "colab": {}
      },
      "source": [
        "def sample_line():\n",
        "  # initial inputs\n",
        "  np_input = np.array([[ word2idx['<sos>'] ]])\n",
        "  h = np.zeros((1, LATENT_DIM))\n",
        "  c = np.zeros((1, LATENT_DIM))\n",
        "\n",
        "  # so we know when to quit\n",
        "  eos = word2idx['<eos>']\n",
        "\n",
        "  # store the output here\n",
        "  output_sentence = []\n",
        "\n",
        "  for _ in range(max_sequences_length):\n",
        "    o, h, c = sampling_model.predict([np_input, h, c])\n",
        "\n",
        "    # print(\"o.shape:\", o.shape, o[0,0,:10])\n",
        "    # idx = np.argmax(o[0,0])\n",
        "    probs = o[0,0]\n",
        "    if np.argmax(probs) == 0:\n",
        "      print(\"wtf\")\n",
        "    probs[0] = 0\n",
        "    probs /= probs.sum()\n",
        "    idx = np.random.choice(len(probs), p=probs)\n",
        "    if idx == eos:\n",
        "      break\n",
        "\n",
        "    # accuulate output\n",
        "    output_sentence.append(idx2word.get(idx, '<WTF %s>' % idx))\n",
        "\n",
        "    # make the next input into model\n",
        "    np_input[0,0] = idx\n",
        "\n",
        "  return ' '.join(output_sentence)"
      ],
      "execution_count": 0,
      "outputs": []
    },
    {
      "cell_type": "code",
      "metadata": {
        "id": "6hZ800tOFxp5",
        "colab_type": "code",
        "colab": {
          "base_uri": "https://localhost:8080/",
          "height": 191
        },
        "outputId": "b7b59e5f-f62f-4073-b85d-f79f57c3984e"
      },
      "source": [
        "while True:\n",
        "  for _ in range(4):\n",
        "    print(sample_line())\n",
        "\n",
        "  ans = input(\"---generate another? [Y/n]---\")\n",
        "  if ans and ans[0].lower().startswith('n'):\n",
        "    break"
      ],
      "execution_count": 37,
      "outputs": [
        {
          "output_type": "stream",
          "text": [
            "live this his behind the you the born\n",
            "brook she we at became of field. burned back and\n",
            "recognize\n",
            "drink descend her of headless his happened caught town herself.' these know.\n",
            "---generate another? [Y/n]---y\n",
            "as and he's but bear\n",
            "me been the others' box,\n",
            "always house, a and across me, a rouse build i inner a\n",
            "town too, the a the drowned\n",
            "---generate another? [Y/n]---n\n"
          ],
          "name": "stdout"
        }
      ]
    },
    {
      "cell_type": "code",
      "metadata": {
        "id": "i9lfyco8Fxnb",
        "colab_type": "code",
        "colab": {}
      },
      "source": [
        ""
      ],
      "execution_count": 0,
      "outputs": []
    }
  ]
}