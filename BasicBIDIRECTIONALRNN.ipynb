{
  "nbformat": 4,
  "nbformat_minor": 0,
  "metadata": {
    "colab": {
      "name": "BasicBIDIRECTIONALRNN.ipynb",
      "provenance": []
    },
    "kernelspec": {
      "name": "python3",
      "display_name": "Python 3"
    }
  },
  "cells": [
    {
      "cell_type": "code",
      "metadata": {
        "id": "OsF96Atq4mAS",
        "colab_type": "code",
        "colab": {}
      },
      "source": [
        "from keras.models import Model\n",
        "from keras.layers import Input, LSTM, Bidirectional\n",
        "import numpy as np\n",
        "import matplotlib.pyplot as plt\n",
        "import warnings\n",
        "warnings.filterwarnings('ignore')"
      ],
      "execution_count": 0,
      "outputs": []
    },
    {
      "cell_type": "code",
      "metadata": {
        "id": "9HZI_teK484Z",
        "colab_type": "code",
        "colab": {}
      },
      "source": [
        "T = 8\n",
        "D = 2\n",
        "M = 3"
      ],
      "execution_count": 0,
      "outputs": []
    },
    {
      "cell_type": "code",
      "metadata": {
        "id": "ueNzr3G25DY9",
        "colab_type": "code",
        "colab": {}
      },
      "source": [
        "X = np.random.randn(1, T, D)"
      ],
      "execution_count": 0,
      "outputs": []
    },
    {
      "cell_type": "code",
      "metadata": {
        "id": "vP62woe_5Mnp",
        "colab_type": "code",
        "colab": {
          "base_uri": "https://localhost:8080/",
          "height": 156
        },
        "outputId": "67c29da5-38be-41cd-a29f-ecd4d98a648f"
      },
      "source": [
        "print(X)"
      ],
      "execution_count": 12,
      "outputs": [
        {
          "output_type": "stream",
          "text": [
            "[[[-1.45599298  0.91069922]\n",
            "  [ 0.33316787  1.14783823]\n",
            "  [-0.94212628  0.83699988]\n",
            "  [-1.62296183  1.60888154]\n",
            "  [ 0.50384635  0.23986636]\n",
            "  [ 1.68792276 -0.89784957]\n",
            "  [-0.0187994   0.39857365]\n",
            "  [ 0.33661071 -0.78781408]]]\n"
          ],
          "name": "stdout"
        }
      ]
    },
    {
      "cell_type": "markdown",
      "metadata": {
        "id": "nG-E0_ik5a6q",
        "colab_type": "text"
      },
      "source": [
        "# <b> Model"
      ]
    },
    {
      "cell_type": "code",
      "metadata": {
        "id": "jnK9iRG65WJF",
        "colab_type": "code",
        "colab": {}
      },
      "source": [
        "input_ = Input(shape = (T,D))\n",
        "rnn = Bidirectional(LSTM(M, return_state = True, return_sequences = True))\n",
        "x = rnn(input_)"
      ],
      "execution_count": 0,
      "outputs": []
    },
    {
      "cell_type": "code",
      "metadata": {
        "id": "WlU3F6b75wH_",
        "colab_type": "code",
        "colab": {
          "base_uri": "https://localhost:8080/",
          "height": 245
        },
        "outputId": "6af0f659-bdb9-4302-b424-b1457d2498f0"
      },
      "source": [
        "model = Model(input = input_, output = x)\n",
        "o, h1, c1, h2, c2 = model.predict(X)"
      ],
      "execution_count": 14,
      "outputs": [
        {
          "output_type": "stream",
          "text": [
            "WARNING:tensorflow:From /usr/local/lib/python3.6/dist-packages/keras/backend/tensorflow_backend.py:3005: The name tf.Session is deprecated. Please use tf.compat.v1.Session instead.\n",
            "\n",
            "WARNING:tensorflow:From /usr/local/lib/python3.6/dist-packages/keras/backend/tensorflow_backend.py:190: The name tf.get_default_session is deprecated. Please use tf.compat.v1.get_default_session instead.\n",
            "\n",
            "WARNING:tensorflow:From /usr/local/lib/python3.6/dist-packages/keras/backend/tensorflow_backend.py:197: The name tf.ConfigProto is deprecated. Please use tf.compat.v1.ConfigProto instead.\n",
            "\n",
            "WARNING:tensorflow:From /usr/local/lib/python3.6/dist-packages/keras/backend/tensorflow_backend.py:207: The name tf.global_variables is deprecated. Please use tf.compat.v1.global_variables instead.\n",
            "\n",
            "WARNING:tensorflow:From /usr/local/lib/python3.6/dist-packages/keras/backend/tensorflow_backend.py:216: The name tf.is_variable_initialized is deprecated. Please use tf.compat.v1.is_variable_initialized instead.\n",
            "\n",
            "WARNING:tensorflow:From /usr/local/lib/python3.6/dist-packages/keras/backend/tensorflow_backend.py:223: The name tf.variables_initializer is deprecated. Please use tf.compat.v1.variables_initializer instead.\n",
            "\n"
          ],
          "name": "stdout"
        }
      ]
    },
    {
      "cell_type": "code",
      "metadata": {
        "id": "Vsh6So0r6Oya",
        "colab_type": "code",
        "colab": {
          "base_uri": "https://localhost:8080/",
          "height": 364
        },
        "outputId": "20b7c70a-d223-4429-9928-9ef12344fbb9"
      },
      "source": [
        "\n",
        "print(\" o is \", o)\n",
        "print(\"h1 is \", h1)\n",
        "print(\"c1 is \", c1)\n",
        "print(\"h2 is \", h2)\n",
        "print(\"c2 is \", c2)"
      ],
      "execution_count": 15,
      "outputs": [
        {
          "output_type": "stream",
          "text": [
            " o is  [[[-0.01637672  0.00291236  0.04526689 -0.08556442 -0.22496878\n",
            "    0.0022482 ]\n",
            "  [ 0.03036503  0.13048714  0.13907076 -0.17999485  0.01201859\n",
            "   -0.14685073]\n",
            "  [ 0.03029141  0.15192671  0.14107554 -0.06114411 -0.19355972\n",
            "   -0.01946843]\n",
            "  [ 0.01757688  0.19463485  0.18814526 -0.03226895 -0.13331719\n",
            "   -0.0593887 ]\n",
            "  [ 0.10369705  0.19772226  0.1807553   0.04240248  0.17520922\n",
            "   -0.21911022]\n",
            "  [ 0.2208257   0.1608316   0.06862654  0.08614228  0.09812374\n",
            "   -0.24006611]\n",
            "  [ 0.14515378  0.21480572  0.08301481  0.01170033  0.0272013\n",
            "   -0.0169581 ]\n",
            "  [ 0.19240317  0.05628186 -0.01027091  0.06859568  0.00355633\n",
            "    0.01495388]]]\n",
            "h1 is  [[ 0.19240317  0.05628186 -0.01027091]]\n",
            "c1 is  [[ 0.3038451   0.11802649 -0.01974384]]\n",
            "h2 is  [[-0.08556442 -0.22496878  0.0022482 ]]\n",
            "c2 is  [[-0.24227053 -0.41807875  0.0067139 ]]\n"
          ],
          "name": "stdout"
        }
      ]
    },
    {
      "cell_type": "markdown",
      "metadata": {
        "id": "TVc2in4V6nY2",
        "colab_type": "text"
      },
      "source": [
        "# Model I"
      ]
    },
    {
      "cell_type": "code",
      "metadata": {
        "colab_type": "code",
        "id": "cZgPImqN6pqF",
        "colab": {}
      },
      "source": [
        "input_ = Input(shape = (T,D))\n",
        "rnn = Bidirectional(LSTM(M, return_state = True, return_sequences = False))\n",
        "x = rnn(input_)"
      ],
      "execution_count": 0,
      "outputs": []
    },
    {
      "cell_type": "code",
      "metadata": {
        "colab_type": "code",
        "id": "tHt6LVFQ6pqU",
        "colab": {}
      },
      "source": [
        "model = Model(input = input_, output = x)\n",
        "o, h1, c1, h2, c2 = model.predict(X)"
      ],
      "execution_count": 0,
      "outputs": []
    },
    {
      "cell_type": "code",
      "metadata": {
        "colab_type": "code",
        "outputId": "2220a3d4-1fa6-4913-94bd-ce9dc1421a36",
        "id": "fO5vtGFW6pqh",
        "colab": {
          "base_uri": "https://localhost:8080/",
          "height": 104
        }
      },
      "source": [
        "\n",
        "print(\" o is \", o)\n",
        "print(\"h1 is \", h1)\n",
        "print(\"c1 is \", c1)\n",
        "print(\"h2 is \", h2)\n",
        "print(\"c2 is \", c2)"
      ],
      "execution_count": 18,
      "outputs": [
        {
          "output_type": "stream",
          "text": [
            " o is  [[ 0.17017034  0.00630224  0.00969661 -0.1988222  -0.08086883 -0.0751718 ]]\n",
            "h1 is  [[0.17017034 0.00630224 0.00969661]]\n",
            "c1 is  [[0.3926569  0.01495118 0.02002691]]\n",
            "h2 is  [[-0.1988222  -0.08086883 -0.0751718 ]]\n",
            "c2 is  [[-0.4033901  -0.18870752 -0.13741374]]\n"
          ],
          "name": "stdout"
        }
      ]
    }
  ]
}